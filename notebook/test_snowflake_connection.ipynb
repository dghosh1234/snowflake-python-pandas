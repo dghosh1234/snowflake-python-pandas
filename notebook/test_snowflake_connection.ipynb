{
 "cells": [
  {
   "cell_type": "code",
   "execution_count": 1,
   "metadata": {},
   "outputs": [],
   "source": [
    "from snowflake.snowpark.session import Session \n",
    "from snowflake.snowpark.version import VERSION \n",
    "import json"
   ]
  },
  {
   "cell_type": "code",
   "execution_count": 2,
   "metadata": {},
   "outputs": [],
   "source": [
    "# read credentials\n",
    "with open('spconn.json') as f:\n",
    "    connection_parameters = json.load(f)\n",
    "session = Session.builder.configs(connection_parameters).create()\n"
   ]
  },
  {
   "cell_type": "code",
   "execution_count": 3,
   "metadata": {},
   "outputs": [
    {
     "name": "stdout",
     "output_type": "stream",
     "text": [
      "Database : \"PRACTICE_PANDAS\"\n",
      "Schemas : \"MYDATA\"\n",
      "Warehouse : \"COMPUTE_WH\"\n",
      "Role : \"ACCOUNTADMIN\"\n",
      "Snowpark for Python Version : 1.24.0\n"
     ]
    }
   ],
   "source": [
    "snowpark_version = VERSION\n",
    "print('Database : {}'.format(session.get_current_database()))\n",
    "print('Schemas : {}'.format(session.get_current_schema()))\n",
    "print('Warehouse : {}'.format(session.get_current_warehouse()))\n",
    "print('Role : {}'.format(session.get_current_role()))\n",
    "print('Snowpark for Python Version : {}.{}.{}'.format(snowpark_version[0],snowpark_version[1],snowpark_version[2]))"
   ]
  },
  {
   "cell_type": "code",
   "execution_count": null,
   "metadata": {},
   "outputs": [],
   "source": []
  }
 ],
 "metadata": {
  "kernelspec": {
   "display_name": "venv",
   "language": "python",
   "name": "python3"
  },
  "language_info": {
   "codemirror_mode": {
    "name": "ipython",
    "version": 3
   },
   "file_extension": ".py",
   "mimetype": "text/x-python",
   "name": "python",
   "nbconvert_exporter": "python",
   "pygments_lexer": "ipython3",
   "version": "3.10.6"
  }
 },
 "nbformat": 4,
 "nbformat_minor": 2
}
